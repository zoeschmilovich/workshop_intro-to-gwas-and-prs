{
  "nbformat": 4,
  "nbformat_minor": 0,
  "metadata": {
    "colab": {
      "provenance": [],
      "private_outputs": true,
      "authorship_tag": "ABX9TyMhi0UiID6e0Zrr6XwnBYh4",
      "include_colab_link": true
    },
    "kernelspec": {
      "name": "python3",
      "display_name": "Python 3"
    },
    "language_info": {
      "name": "python"
    }
  },
  "cells": [
    {
      "cell_type": "markdown",
      "metadata": {
        "id": "view-in-github",
        "colab_type": "text"
      },
      "source": [
        "<a href=\"https://colab.research.google.com/github/zoeschmilovich/workshop_intro-to-gwas-and-prs/blob/main/Part_2_Fundamentals_of_polygenic_risk_scores.ipynb\" target=\"_parent\"><img src=\"https://colab.research.google.com/assets/colab-badge.svg\" alt=\"Open In Colab\"/></a>"
      ]
    },
    {
      "cell_type": "markdown",
      "source": [
        "# Computing individual-level polygenic risk scores"
      ],
      "metadata": {
        "id": "4yqvq1Jjg7MM"
      }
    },
    {
      "cell_type": "markdown",
      "source": [
        "# Set up command-line environment"
      ],
      "metadata": {
        "id": "KfFlKdgUiieG"
      }
    },
    {
      "cell_type": "code",
      "source": [
        "!git clone https://github.com/zoeschmilovich/workshop_intro-to-gwas-and-prs.git"
      ],
      "metadata": {
        "id": "y5WAJDyeETyX"
      },
      "execution_count": null,
      "outputs": []
    },
    {
      "cell_type": "markdown",
      "source": [
        "Download GWAS summary statistics"
      ],
      "metadata": {
        "id": "7rTIE-lGQ8QT"
      }
    },
    {
      "cell_type": "code",
      "source": [
        "!mkdir /content/workshop_intro-to-gwas-and-prs/data/gwas-sum-stats\n",
        "\n",
        "!wget https://ftp.ebi.ac.uk/pub/databases/gwas/summary_statistics/GCST007001-GCST008000/GCST007245/CousminerDL_30254083.gz /content/workshop_intro-to-gwas-and-prs/data/gwas-sum-stats/T2D_gwas"
      ],
      "metadata": {
        "id": "DwGLGcmzRBXh"
      },
      "execution_count": null,
      "outputs": []
    },
    {
      "cell_type": "code",
      "source": [
        "%%capture\n",
        "\n",
        "# Download PLINK2\n",
        "!wget -qO- https://s3.amazonaws.com/plink2-assets/plink2_linux_x86_64_latest.zip > plink2.zip\n",
        "!unzip -q plink2.zip\n",
        "!mv plink2 /usr/local/bin/\n",
        "!plink2 --version"
      ],
      "metadata": {
        "id": "cqQnLCdQVABr"
      },
      "execution_count": null,
      "outputs": []
    },
    {
      "cell_type": "code",
      "source": [
        "# Define the directory\n",
        "dir=\"/content/workshop_intro-to-gwas-and-prs\""
      ],
      "metadata": {
        "id": "jDwyHd3aXkLd"
      },
      "execution_count": null,
      "outputs": []
    },
    {
      "cell_type": "code",
      "source": [
        "# Add mock binary (affected (2) vs. unaffected (1)) phenotypes to the PLINK files\n",
        "\n",
        "!plink2 --bfile $dir/data/genotypes/EUR \\\n",
        "        --pheno $dir/data/genotypes/T2D_phenotypes.txt \\\n",
        "        --make-bed \\\n",
        "        --out $dir/data/genotypes/T2D_case_control\n",
        "\n",
        "# Count the number of\n",
        "!plink2 --bfile $dir/data/genotypes/T2D_case_control \\\n",
        "        --freq \\\n",
        "        --out $dir/data/genotypes/case_control_counts"
      ],
      "metadata": {
        "id": "sUT0w5ltdyOi"
      },
      "execution_count": null,
      "outputs": []
    },
    {
      "cell_type": "markdown",
      "source": [
        "The `afreq` file contains allele frequency information for the variants across our samples."
      ],
      "metadata": {
        "id": "ojMVEqGwjzNY"
      }
    },
    {
      "cell_type": "code",
      "source": [
        "import pandas as pd\n",
        "import matplotlib.pyplot as plt\n",
        "\n",
        "# Read the .afreq file into a pandas DataFrame\n",
        "afreq_df = pd.read_csv(f\"{dir}/data/genotypes/case_control_counts.afreq\", delim_whitespace=True)\n",
        "\n",
        "# Display the first few rows of the DataFrame\n",
        "print(afreq_df.head())\n",
        "\n",
        "plt.figure(figsize=(10, 6))\n",
        "plt.hist(afreq_df['ALT_FREQS'], bins=50, edgecolor='k', alpha=0.7)\n",
        "plt.axvline(x=0.01, color='red', linestyle='--', linewidth=1.5, label='MAF 0.01')\n",
        "\n",
        "plt.xlabel('Alternative Allele Frequency')\n",
        "plt.ylabel('Number of Variants')\n",
        "plt.title('Distribution of Alternative Allele Frequencies')\n",
        "plt.grid(True)\n",
        "plt.legend()\n",
        "plt.show()\n"
      ],
      "metadata": {
        "id": "xe4Em1XbgVKS"
      },
      "execution_count": null,
      "outputs": []
    },
    {
      "cell_type": "markdown",
      "source": [
        "Explanation of filtering:\n",
        "--maf 0.01 \\ #  Filters SNPs to include only those with a minor allele frequency (MAF) above 0.01.\n",
        "--geno 0.1 \\ # Excludes SNPs with missing call rates exceeding 0.1.\n",
        "--hwe 0.0001 \\ # Excludes SNPs with Hardy-Weinberg equilibrium p-values below 0.0001.\n",
        "--make-bed \\ # Output will be in PLINK (.bed, .bim, .fam) format\n",
        "--out $dir/EUR_maf-0.01_geno-0.1_hwe-1e4 # QC'ed output PLINK files\n"
      ],
      "metadata": {
        "id": "UHLcTnq7MT55"
      }
    },
    {
      "cell_type": "code",
      "source": [
        "# Perform initial filtering by MAF, SNP call rate, exclude specific SNPs, and keep specific samples\n",
        "\n",
        "!plink2 --bfile $dir/data/genotypes/EUR \\\n",
        "--maf 0.01 \\\n",
        "--geno 0.1 \\\n",
        "--hwe 0.0001 \\\n",
        "--make-bed \\\n",
        "--out $dir/data/genotypes/EUR_maf-0.01_geno-0.1_hwe-1e4\n",
        "\n",
        "# Perform LD pruning in two steps:\n",
        "# Step 1: Generate list of SNPs to keep\n",
        "# We perform linkage disequilibrium (LD) pruning using:\n",
        "  # - a window size of 50 SNPs\n",
        "  # - a step size of 5 SNPs\n",
        "  # - r2 threshold of 0.2 (correlation between SNPs)\n",
        "!plink2 --bfile $dir/data/genotypes/EUR_maf-0.01_geno-0.1_hwe-1e4 \\\n",
        "       --indep-pairwise 50 5 0.2 \\\n",
        "       --out $dir/data/genotypes/EUR_ld_pruned\n",
        "\n",
        "# Step 2: Apply LD pruning\n",
        "!plink2 --bfile $dir/data/genotypes/EUR_maf-0.01_geno-0.1_hwe-1e4 \\\n",
        "       --extract $dir/data/genotypes/EUR_ld_pruned.prune.in \\\n",
        "       --make-bed \\\n",
        "       --out $dir/data/genotypes/EUR_QCed"
      ],
      "metadata": {
        "id": "ReuKRUcTAhJw"
      },
      "execution_count": null,
      "outputs": []
    },
    {
      "cell_type": "markdown",
      "source": [
        "Install dependencies needed for PRS-Cs to compute PRS"
      ],
      "metadata": {
        "id": "dRkGzIUVPKID"
      }
    },
    {
      "cell_type": "code",
      "source": [
        "# Clone the PRS-CS repository\n",
        "!git clone https://github.com/getian107/PRScs.git\n",
        "\n",
        "# Navigate to the PRS-CS directory\n",
        "%cd PRScs\n",
        "\n",
        "# Download the pre-trained LD reference panels\n",
        "!wget https://personal.broadinstitute.org/hhuang//public/PRS-CSx/Reference/1KG/ldblk_1kg_eur.tar.gz\n",
        "\n",
        "# Extract the downloaded files\n",
        "!tar -xzvf ldblk_1kg_eur.tar.gz"
      ],
      "metadata": {
        "id": "qqhJU53FO2lu"
      },
      "execution_count": null,
      "outputs": []
    },
    {
      "cell_type": "markdown",
      "source": [
        "Run PRScs to estimate the effect size of SNPs"
      ],
      "metadata": {
        "id": "kHHVpai6QR5d"
      }
    },
    {
      "cell_type": "code",
      "source": [
        "import pandas as pd\n",
        "import numpy as np\n",
        "\n",
        "# Set random seed for reproducibility\n",
        "np.random.seed(42)\n",
        "\n",
        "# Number of SNPs to simulate\n",
        "num_snps = 10000\n",
        "\n",
        "# Generate mock data\n",
        "data = {\n",
        "    'SNP': [f'rs{1000000 + i}' for i in range(num_snps)],  # SNP IDs\n",
        "    'CHR': np.random.randint(1, 23, size=num_snps),        # Chromosome number (1-22)\n",
        "    'BP': np.random.randint(1, 1e6, size=num_snps),        # Base pair position\n",
        "    'A1': np.random.choice(['A', 'C', 'G', 'T'], size=num_snps),  # Effect allele\n",
        "    'A2': np.random.choice(['A', 'C', 'G', 'T'], size=num_snps),  # Non-effect allele\n",
        "    'Freq1': np.random.uniform(0.01, 0.5, size=num_snps),  # Allele frequency of A1\n",
        "    'b': np.random.normal(0, 0.1, size=num_snps),          # Estimated effect size (beta)\n",
        "    'se': np.random.uniform(0.01, 0.1, size=num_snps),     # Standard error of beta\n",
        "    'p': np.random.uniform(0, 1, size=num_snps)            # P-value\n",
        "}\n",
        "\n",
        "# Create DataFrame\n",
        "gwas_df = pd.DataFrame(data)\n",
        "\n",
        "# Adjust the p-values to make some SNPs significant\n",
        "significant_snps = np.random.choice(num_snps, size=int(num_snps * 0.05), replace=False)\n",
        "gwas_df.loc[significant_snps, 'p'] = gwas_df.loc[significant_snps, 'p'] / 1e6\n",
        "\n",
        "# Save to a file\n",
        "gwas_df.to_csv(f\"{dir}/data/gwas_summary_stats.txt', sep='\\t', index=False)\")\n"
      ],
      "metadata": {
        "id": "mM2xgWb7Wo-9"
      },
      "execution_count": null,
      "outputs": []
    },
    {
      "cell_type": "code",
      "source": [
        "# Example command to run PRS-CS\n",
        "\n",
        "!mkdir $dir/output/PRScs-estimates\n",
        "\n",
        "!python PRScs.py \\\n",
        "        --ref_dir=/content/PRScs/ldblk_1kg_eur \\\n",
        "        --bim_prefix=$dir/data/genotypes/EUR_QCed \\\n",
        "        --sst_file=$dir/data/gwas_summary_stats.txt \\\n",
        "        --n_gwas=100000 \\\n",
        "        --out_dir=$dir/output/PRScs-estimates/EUR"
      ],
      "metadata": {
        "id": "Sz3ulQUpQYP3"
      },
      "execution_count": null,
      "outputs": []
    },
    {
      "cell_type": "markdown",
      "source": [
        "*Following PRScs, *"
      ],
      "metadata": {
        "id": "OioWnX2UfEe1"
      }
    },
    {
      "cell_type": "code",
      "source": [
        "# Concatenate all chromosome files for LBC\n",
        "\n",
        "!cat $dir/output/PRScs-estimates/EUR_pst_eff_a1_b0.5_phiauto_chr*.txt | sort -n -k1 > $dir/output/PRScs-estimates/EUR_pst_eff_a1_b0.5_phiauto_allchr.txt\n",
        "\n",
        "# Prepare the output of PRScs so that it can be used by PLINK\n",
        "!awk '{print $2, $4, $6}' \\\n",
        "      /content/workshop_intro-to-gwas-and-prs/output/PRScs-estimates/EUR_pst_eff_a1_b0.5_phiauto_allchr.txt | \\\n",
        "      sed 's/ /\\t/g' > \\\n",
        "      /content/workshop_intro-to-gwas-and-prs/output/PRScs-estimates/EUR_pst_eff_a1_b0.5_phiauto_allchr.PLINKscore\n"
      ],
      "metadata": {
        "id": "rhpTMrVjYgRh"
      },
      "execution_count": null,
      "outputs": []
    },
    {
      "cell_type": "code",
      "source": [
        "# Run PLINK2 to calculate PRS\n",
        "\n",
        "\n",
        "!plink2 \\\n",
        "    --bfile $dir/data/genotypes/EUR_QCed \\\n",
        "    --pheno $dir/data/genotypes/T2D_phenotypes.txt \\\n",
        "    --missing \\\n",
        "    --out $dir/data/case_control_counts\n",
        "\n",
        "\n",
        "# Generate a frequency report including phenotype information\n",
        "!plink2 --bfile $dir/data/genotypes/EUR_QCed \\\n",
        "       --pheno $dir/data/genotypes/T2D_phenotypes.txt \\\n",
        "       --freq case-control \\\n",
        "       --out $dir/data/case_control_counts\n",
        "\n",
        "!less $dir/data/case_control_counts.frq.cc\n",
        "\n",
        "!less /content/workshop_intro-to-gwas-and-prs/data/case_control_counts.smiss\n",
        "\n",
        "!plink2 \\\n",
        "    --bfile $dir/data/genotypes/EUR_QCed \\\n",
        "    --score $dir/output_pst_eff_a1_b0.5_phiauto_allchr.PLINKscore no-mean-imputation \\\n",
        "    --out $dir/PRS_scores"
      ],
      "metadata": {
        "id": "ybPRQOZXarRY"
      },
      "execution_count": null,
      "outputs": []
    }
  ]
}